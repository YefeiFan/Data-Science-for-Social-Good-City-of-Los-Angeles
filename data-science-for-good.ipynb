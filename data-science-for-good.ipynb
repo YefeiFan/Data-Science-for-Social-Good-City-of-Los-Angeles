{
 "cells": [
  {
   "cell_type": "markdown",
   "metadata": {},
   "source": [
    "# Data Science for Good: City of Los Angeles\n",
    "## Background;\n",
    "When candidates are hunting for new jobs, the content, tone, and format of job bulletins can influence wether the candidates would apply or not. Therefore, improving the quality of the job description is essential for a better applicant pool.\n",
    "\n",
    "The goal of this notebook is to demenstrate the process of conveting the plain text job description to a single structured CSV file. Afterwords, we would use this data to: \n",
    "1. Identify language that can negatively bias the pool of applicants; \n",
    "2. Improve the diversity and quality of the applicant pool; \n",
    "3. Make it easier to determine which promotions are available to employees in each job class.\n",
    "\n"
   ]
  },
  {
   "cell_type": "markdown",
   "metadata": {},
   "source": [
    "## Data preparation"
   ]
  },
  {
   "cell_type": "code",
   "execution_count": 1,
   "metadata": {},
   "outputs": [
    {
     "name": "stdout",
     "output_type": "stream",
     "text": [
      "Collecting textstat\r\n",
      "  Downloading https://files.pythonhosted.org/packages/66/73/97bb64c89d6f2b24be6ad76007823e19b4c32ed4d484420b3ec6892ac440/textstat-0.5.6-py3-none-any.whl\r\n",
      "Requirement already satisfied: pyphen in /opt/conda/lib/python3.6/site-packages (from textstat) (0.9.5)\r\n",
      "Collecting repoze.lru (from textstat)\r\n",
      "  Downloading https://files.pythonhosted.org/packages/b0/30/6cc0c95f0b59ad4b3b9163bff7cdcf793cc96fac64cf398ff26271f5cf5e/repoze.lru-0.7-py3-none-any.whl\r\n",
      "Installing collected packages: repoze.lru, textstat\r\n",
      "Successfully installed repoze.lru-0.7 textstat-0.5.6\r\n",
      "Collecting find_job_titles\r\n",
      "\u001b[?25l  Downloading https://files.pythonhosted.org/packages/e3/43/9f8294dabf906f3cc5277a0914a4dcc7fb6d506c3e8c317e469c11dbeea7/find_job_titles-0.7.0-py2.py3-none-any.whl (383kB)\r\n",
      "\u001b[K     |████████████████████████████████| 389kB 2.8MB/s \r\n",
      "\u001b[?25hCollecting acora (from find_job_titles)\r\n",
      "\u001b[?25l  Downloading https://files.pythonhosted.org/packages/f6/97/de75ac2ff9cb984eb3b041762dd5e72ef008143a904050c1bc870ee7556b/acora-2.2-cp36-cp36m-manylinux1_x86_64.whl (181kB)\r\n",
      "\u001b[K     |████████████████████████████████| 184kB 31.2MB/s \r\n",
      "\u001b[?25hRequirement already satisfied: pyahocorasick in /opt/conda/lib/python3.6/site-packages (from find_job_titles) (1.4.0)\r\n",
      "Installing collected packages: acora, find-job-titles\r\n",
      "Successfully installed acora-2.2 find-job-titles-0.7.0\r\n",
      "Requirement already satisfied: graphviz in /opt/conda/lib/python3.6/site-packages (0.8.4)\r\n",
      "Collecting vaderSentiment\r\n",
      "\u001b[?25l  Downloading https://files.pythonhosted.org/packages/86/9e/c53e1fc61aac5ee490a6ac5e21b1ac04e55a7c2aba647bb8411c9aadf24e/vaderSentiment-3.2.1-py2.py3-none-any.whl (125kB)\r\n",
      "\u001b[K     |████████████████████████████████| 133kB 2.8MB/s \r\n",
      "\u001b[?25hInstalling collected packages: vaderSentiment\r\n",
      "Successfully installed vaderSentiment-3.2.1\r\n"
     ]
    }
   ],
   "source": [
    "# Configuration and package installation\n",
    "import pandas as pd\n",
    "import numpy as np\n",
    "import datetime as dt\n",
    "import re\n",
    "import csv\n",
    "import os\n",
    "import sys\n",
    "import matplotlib.pyplot as plt\n",
    "import seaborn as sns\n",
    "!pip install textstat\n",
    "import textstat\n",
    "import nltk\n",
    "import nltk\n",
    "from nltk import word_tokenize\n",
    "from nltk import pos_tag\n",
    "from collections  import Counter\n",
    "!pip install find_job_titles\n",
    "!pip install graphviz\n",
    "from find_job_titles import FinderAcora\n",
    "from graphviz import Digraph\n",
    "!pip install vaderSentiment\n",
    "from vaderSentiment.vaderSentiment import SentimentIntensityAnalyzer\n",
    "\n",
    "# Prevent warning message, making report more user-friendly\n",
    "if not sys.warnoptions:\n",
    "    import warnings\n",
    "    warnings.simplefilter(\"ignore\")"
   ]
  },
  {
   "cell_type": "code",
   "execution_count": 2,
   "metadata": {},
   "outputs": [],
   "source": [
    "# Open files directory \n",
    "files=[dir for dir in os.walk('../input/cityofla/CityofLA')]\n",
    "\n",
    "bulletins=os.listdir(\"../input/cityofla/CityofLA/Job Bulletins/\")\n",
    "additional=os.listdir(\"../input/cityofla/CityofLA/Additional data/\")"
   ]
  },
  {
   "cell_type": "code",
   "execution_count": 3,
   "metadata": {},
   "outputs": [],
   "source": [
    "# Create a list of job positions: each element of list is one job description\n",
    "job = []\n",
    "\n",
    "for bullet in bulletins:\n",
    "    \n",
    "    f = open(\"../input/cityofla/CityofLA/Job Bulletins/\"+ bullet,encoding='latin-1')\n",
    "    position = f.read()\n",
    "    pos = position.replace('\\t','').replace('\\n','')\n",
    "    f.close()\n",
    "    \n",
    "    job.append(pos)"
   ]
  },
  {
   "cell_type": "code",
   "execution_count": 4,
   "metadata": {},
   "outputs": [],
   "source": [
    "# Write regular patterns of each feature\n",
    "date = '(\\d\\d\\d\\d\\d\\d)'\n",
    "code = '(\\d\\d\\d\\d)'\n",
    "salary = '\\$(\\d+,\\d+)(\\s(to|and)\\s)(\\$\\d+,\\d+)'\n",
    "require1 = '(REQUIREMENTS?/\\s?MINIMUM QUALIFICATIONS?)(.*)(PROCESS NOTE)' \n",
    "require2 = '(REQUIREMENTS?)(.*)(NOTES?)'\n",
    "educate = 'College or University|College|University|High School|college or university|college|university|high school|special degree program|degree program|undergraduate|Undergraduate|Graduate|graduate|Bachelor’s Degree|Bachelor|Master|Master’s Degree|Doctoral or Professional Degree'\n",
    "experience = 'paid experience|volunteer experience|unpaid experience|full-time experience|part-time experience|full time experience|part time experience|work experience|experiences|experience'\n",
    "\n",
    "# Check regular patterns function \n",
    "def check_re(pat, S):\n",
    "    return bool(re.search(pat, S))\n",
    "\n",
    "# Extract Title to a list\n",
    "Title = []\n",
    "for i in bulletins:\n",
    "    Title.append(re.split(\"\\d{4}\", i)[0].lower())\n",
    "\n",
    "Title = pd.Series(Title)\n",
    "\n",
    "# Extract OpenDate to a list\n",
    "OpenDate = []\n",
    "for i in range(len(bulletins)):\n",
    "    if check_re(date,bulletins[i]) == True:\n",
    "        OpenDate.append(re.search(date,bulletins[i]).group())\n",
    "    else:\n",
    "        OpenDate.append('')\n",
    "        \n",
    "OpenDate = pd.Series(OpenDate)\n",
    "\n",
    "# Extract ClassNode to a list\n",
    "ClassCode = []\n",
    "for i in range(len(job)):\n",
    "    if check_re(code,job[i]) == True:\n",
    "        ClassCode.append(re.search(code,job[i]).group())\n",
    "    else:\n",
    "        ClassCode.append('')\n",
    "    \n",
    "ClassCode = pd.Series(ClassCode)\n",
    "\n",
    "# Extract Salary to a list\n",
    "Salary = []\n",
    "for i in range(len(job)):\n",
    "    if check_re(salary,job[i]) == True:\n",
    "        Salary.append(re.search(salary,job[i]).group())\n",
    "    else:\n",
    "        Salary.append('')\n",
    "\n",
    "Salary = pd.Series(Salary)\n",
    "\n",
    "SalaryStart = []\n",
    "SalaryEnd = []\n",
    "for i in range(len(Salary)):\n",
    "    if Salary[i] != '':\n",
    "        SalaryStart.append(re.split('(to|and)',Salary[i])[0])\n",
    "        SalaryEnd.append(re.split('(to|and)',Salary[i])[2])\n",
    "    else:\n",
    "        SalaryStart.append('')\n",
    "        SalaryEnd.append('')\n",
    "\n",
    "SalaryStart = pd.Series(SalaryStart)\n",
    "SalaryEnd = pd.Series(SalaryEnd)\n",
    "\n",
    "# Check regular patterns function \n",
    "def check_re(pat, S):\n",
    "    return bool(re.search(pat, S))\n",
    "\n",
    "# Extract Requirement to a list\n",
    "Requirement = []\n",
    "for i in range(len(job)):\n",
    "    if check_re(require1,job[i]) == True:\n",
    "        Requirement.append(re.search(require1,job[i]).group(2))\n",
    "    elif check_re(require2,job[i]) == True:\n",
    "        try:\n",
    "            Requirement.append(re.search('(.*)NOTES?',re.findall(r'(REQUIREMENTS?)(.*)(NOTES?)',job[i])[0][1][:1200]).group(0))\n",
    "        except:\n",
    "            Requirement.append('NA')\n",
    "    else:\n",
    "        Requirement.append('')\n",
    "\n",
    "# Clean requirement:       \n",
    "for r in range(len(Requirement)):\n",
    "    if 'NOTE' in Requirement[r]:\n",
    "        Requirement[r] = Requirement[r].split(\"NOTE\",1)[0]    \n",
    "        \n",
    "Requirement = pd.Series(Requirement)\n",
    "\n",
    "# Extract FileName to a list\n",
    "FileName = pd.Series(bulletins)\n",
    "\n",
    "# Extract Length to a list\n",
    "Length = []\n",
    "for i in range(len(job)):\n",
    "    Length.append(len(job[i].split()))\n",
    "    \n",
    "Length = pd.Series(Length)\n",
    "\n",
    "# Extract Education Level to a list\n",
    "Education = []\n",
    "for i in range(len(Requirement)):\n",
    "    if check_re(educate,Requirement[i]) == True:\n",
    "        Education.append(re.search(educate,Requirement[i]).group(0))\n",
    "    else:\n",
    "        Education.append('no education required')\n",
    "\n",
    "for i in range(len(Education)):\n",
    "    if check_re('College or University|College|University|college or university|college|university|undergraduate|Undergraduate|Bachelor’s Degree|Bachelor',Education[i]) == True:\n",
    "        Education[i] = 'college or university'\n",
    "    elif check_re('High School|high school',Education[i]) == True:\n",
    "        Education[i] = 'high school'\n",
    "    elif check_re('Graduate|graduate|Master|Master’s Degree|Doctoral or Professional Degree', Education[i]) == True:\n",
    "        Education[i] = 'graduate'\n",
    "    elif check_re('special degree program|degree program',Education[i]):\n",
    "        Education[i] = 'special degree program'\n",
    "    else:\n",
    "        Education[i] = Education[i]\n",
    "\n",
    "\n",
    "Education = pd.Series(Education)\n",
    "\n",
    "# Extract Experience Level to a list\n",
    "Experience = []\n",
    "for i in range(len(Requirement)):\n",
    "    if check_re(experience,Requirement[i]) == True:\n",
    "        Experience.append('require experience')\n",
    "    else:\n",
    "        Experience.append('no experience required')\n",
    "           \n",
    "Experience = pd.Series(Experience)"
   ]
  },
  {
   "cell_type": "code",
   "execution_count": 5,
   "metadata": {},
   "outputs": [],
   "source": [
    "# Extract Duties to a list\n",
    "Duties = []\n",
    "duty = '(DUTIES)(\\s*)'\n",
    "\n",
    "for bullet in bulletins:\n",
    "    f = open(\"../input/cityofla/CityofLA/Job Bulletins/\"+ bullet,encoding='latin-1')\n",
    "    jobList = f.readlines()\n",
    "    for i in range(len(jobList)):\n",
    "        jobList[i] = jobList[i].replace('\\n','')\n",
    "    \n",
    "    jobList = [elem for elem in jobList if elem != '']\n",
    "          \n",
    "    if sum(1 for i in range(len(jobList)) if check_re(duty,jobList[i]) == True) == 1:\n",
    "        for i in range(len(jobList)):\n",
    "            if check_re(duty,jobList[i]) == True:\n",
    "                Duties.append(jobList[i+1])\n",
    "    else:\n",
    "        Duties.append('') # some job description doesn't contains duties\n",
    "\n",
    "Duties = pd.Series(Duties)\n",
    "\n",
    "# EXtract Deadlines of applications\n",
    "EndDate = []\n",
    "for i in job:\n",
    "    try:\n",
    "        EndDate.append(re.search(r'(JANUARY|FEBRUARY|MARCH|APRIL|MAY|JUNE|JULY|AUGUST|SEPTEMBER|OCTOBER|NOVEMBER|DECEMBER)\\s(\\d{1,2},\\s\\d{4})',i).group())\n",
    "    except Exception as e:\n",
    "        EndDate.append(np.nan)\n",
    "        \n",
    "EndDate = pd.Series(EndDate)"
   ]
  },
  {
   "cell_type": "code",
   "execution_count": 6,
   "metadata": {},
   "outputs": [],
   "source": [
    "# Create dataframe for further analysis\n",
    "df = pd.concat([FileName, Title, OpenDate, ClassCode, Salary,SalaryStart, SalaryEnd, \n",
    "                Requirement, Experience, Education, Duties, Length,EndDate], axis=1)\n",
    "df.columns = ['FileName','Title', 'OpenDate', 'ClassCode', 'Salary','SalaryStart', 'SalaryEnd', \n",
    "              'Requirement','Experience', 'Education', 'Duties','Length','EndDate']"
   ]
  },
  {
   "cell_type": "code",
   "execution_count": 7,
   "metadata": {},
   "outputs": [],
   "source": [
    "# Correct the column types: SalaryStart and SalaryEnd\n",
    "df['SalaryStart'] = df['SalaryStart'].str.replace('$','')\n",
    "df['SalaryStart'] = df['SalaryStart'].str.replace(',','')\n",
    "df['SalaryStart'] = pd.to_numeric(df['SalaryStart'])\n",
    "\n",
    "df['SalaryEnd'] = df['SalaryEnd'].str.replace('$','')\n",
    "df['SalaryEnd'] = df['SalaryEnd'].str.replace(',','')\n",
    "df['SalaryEnd'] = pd.to_numeric(df['SalaryEnd'])\n",
    "\n",
    "# Fill the missing values with mean\n",
    "df['SalaryStart'] = df['SalaryStart'].fillna(df['SalaryStart'].mean())\n",
    "df['SalaryEnd'] = df['SalaryEnd'].fillna(df['SalaryEnd'].mean())\n",
    "\n",
    "# Delete unnecessary column\n",
    "del df['Salary']\n",
    "\n",
    "# Set class code as index\n",
    "df = df.set_index('ClassCode')"
   ]
  },
  {
   "cell_type": "code",
   "execution_count": 8,
   "metadata": {},
   "outputs": [],
   "source": [
    "# Assign the null value a new value: '010100'\n",
    "for i in range(len(df['OpenDate'])):\n",
    "    if df['OpenDate'][i] == '':\n",
    "        df['OpenDate'][i] = '010100'\n",
    "\n",
    "# Transform column type into datetime\n",
    "df['OpenDate'] = df['OpenDate'].apply(lambda x : dt.datetime.strptime(x, '%m%d%y'))"
   ]
  },
  {
   "cell_type": "code",
   "execution_count": 9,
   "metadata": {},
   "outputs": [
    {
     "data": {
      "text/html": [
       "<div>\n",
       "<style scoped>\n",
       "    .dataframe tbody tr th:only-of-type {\n",
       "        vertical-align: middle;\n",
       "    }\n",
       "\n",
       "    .dataframe tbody tr th {\n",
       "        vertical-align: top;\n",
       "    }\n",
       "\n",
       "    .dataframe thead th {\n",
       "        text-align: right;\n",
       "    }\n",
       "</style>\n",
       "<table border=\"1\" class=\"dataframe\">\n",
       "  <thead>\n",
       "    <tr style=\"text-align: right;\">\n",
       "      <th></th>\n",
       "      <th>FileName</th>\n",
       "      <th>Title</th>\n",
       "      <th>OpenDate</th>\n",
       "      <th>SalaryStart</th>\n",
       "      <th>SalaryEnd</th>\n",
       "      <th>Requirement</th>\n",
       "      <th>Experience</th>\n",
       "      <th>Education</th>\n",
       "      <th>Duties</th>\n",
       "      <th>Length</th>\n",
       "      <th>EndDate</th>\n",
       "    </tr>\n",
       "    <tr>\n",
       "      <th>ClassCode</th>\n",
       "      <th></th>\n",
       "      <th></th>\n",
       "      <th></th>\n",
       "      <th></th>\n",
       "      <th></th>\n",
       "      <th></th>\n",
       "      <th></th>\n",
       "      <th></th>\n",
       "      <th></th>\n",
       "      <th></th>\n",
       "      <th></th>\n",
       "    </tr>\n",
       "  </thead>\n",
       "  <tbody>\n",
       "    <tr>\n",
       "      <th>2454</th>\n",
       "      <td>ARTS ASSOCIATE 2454 072117 REV 072817.txt</td>\n",
       "      <td>arts associate</td>\n",
       "      <td>2017-07-21</td>\n",
       "      <td>48797.000000</td>\n",
       "      <td>71326.000000</td>\n",
       "      <td>1. A bachelor's degree from an accredited four...</td>\n",
       "      <td>require experience</td>\n",
       "      <td>college or university</td>\n",
       "      <td>An Arts Associate performs a broad range of en...</td>\n",
       "      <td>2178</td>\n",
       "      <td>AUGUST 3, 2017</td>\n",
       "    </tr>\n",
       "    <tr>\n",
       "      <th>3638</th>\n",
       "      <td>SENIOR COMMUNICATIONS ELECTRICIAN 3638 030317 ...</td>\n",
       "      <td>senior communications electrician</td>\n",
       "      <td>2017-03-03</td>\n",
       "      <td>79351.186275</td>\n",
       "      <td>106090.323529</td>\n",
       "      <td>Two years of full-time paid experience in a cl...</td>\n",
       "      <td>require experience</td>\n",
       "      <td>no education required</td>\n",
       "      <td>A Senior Communications Electrician acts as a ...</td>\n",
       "      <td>1198</td>\n",
       "      <td>MARCH 16, 2017</td>\n",
       "    </tr>\n",
       "    <tr>\n",
       "      <th>3716</th>\n",
       "      <td>SENIOR AUTOMOTIVE SUPERVISOR 3716 112015.txt</td>\n",
       "      <td>senior automotive supervisor</td>\n",
       "      <td>2015-11-20</td>\n",
       "      <td>103126.000000</td>\n",
       "      <td>111875.000000</td>\n",
       "      <td>Two years of full-time paid experience with th...</td>\n",
       "      <td>require experience</td>\n",
       "      <td>no education required</td>\n",
       "      <td>A Senior Automotive Supervisor assists in plan...</td>\n",
       "      <td>1040</td>\n",
       "      <td>DECEMBER 3, 2015</td>\n",
       "    </tr>\n",
       "    <tr>\n",
       "      <th>4110</th>\n",
       "      <td>WASTEWATER COLLECTION WORKER 4110 102612 REV 0...</td>\n",
       "      <td>wastewater collection worker</td>\n",
       "      <td>2012-10-26</td>\n",
       "      <td>43973.000000</td>\n",
       "      <td>62556.000000</td>\n",
       "      <td>1. One year of full-time paid experience with ...</td>\n",
       "      <td>require experience</td>\n",
       "      <td>no education required</td>\n",
       "      <td>A Wastewater Collection Worker performs a vari...</td>\n",
       "      <td>1341</td>\n",
       "      <td>NaN</td>\n",
       "    </tr>\n",
       "    <tr>\n",
       "      <th>1837</th>\n",
       "      <td>SENIOR STOREKEEPER 1837 052518.txt</td>\n",
       "      <td>senior storekeeper</td>\n",
       "      <td>2018-05-25</td>\n",
       "      <td>52806.000000</td>\n",
       "      <td>77172.000000</td>\n",
       "      <td>Two years of full-time paid experience as a St...</td>\n",
       "      <td>require experience</td>\n",
       "      <td>no education required</td>\n",
       "      <td>A Senior Storekeeper assigns, reviews and eval...</td>\n",
       "      <td>1443</td>\n",
       "      <td>JUNE 7, 2018</td>\n",
       "    </tr>\n",
       "  </tbody>\n",
       "</table>\n",
       "</div>"
      ],
      "text/plain": [
       "                                                    FileName        ...                  EndDate\n",
       "ClassCode                                                           ...                         \n",
       "2454               ARTS ASSOCIATE 2454 072117 REV 072817.txt        ...           AUGUST 3, 2017\n",
       "3638       SENIOR COMMUNICATIONS ELECTRICIAN 3638 030317 ...        ...           MARCH 16, 2017\n",
       "3716            SENIOR AUTOMOTIVE SUPERVISOR 3716 112015.txt        ...         DECEMBER 3, 2015\n",
       "4110       WASTEWATER COLLECTION WORKER 4110 102612 REV 0...        ...                      NaN\n",
       "1837                      SENIOR STOREKEEPER 1837 052518.txt        ...             JUNE 7, 2018\n",
       "\n",
       "[5 rows x 11 columns]"
      ]
     },
     "execution_count": 9,
     "metadata": {},
     "output_type": "execute_result"
    }
   ],
   "source": [
    "df.head()"
   ]
  },
  {
   "cell_type": "markdown",
   "metadata": {},
   "source": [
    "## Data Analysis"
   ]
  },
  {
   "cell_type": "markdown",
   "metadata": {},
   "source": [
    "### How does the length of words distributed?\n",
    "#### Problem 1.1:\n",
    "First, we want to know the number of words in each job description. Length of job description could reflect the efficiency of job description in some degree. We use histogram to visualize the distribution of the number of words in job descriptions. The x-axis is the bins of number of words and the y-axis is the frequency."
   ]
  },
  {
   "cell_type": "code",
   "execution_count": 10,
   "metadata": {},
   "outputs": [
    {
     "data": {
      "text/plain": [
       "count     683.000000\n",
       "mean     1532.370425\n",
       "std       365.961020\n",
       "min       723.000000\n",
       "25%      1273.000000\n",
       "50%      1483.000000\n",
       "75%      1747.000000\n",
       "max      3070.000000\n",
       "Name: Length, dtype: float64"
      ]
     },
     "execution_count": 10,
     "metadata": {},
     "output_type": "execute_result"
    }
   ],
   "source": [
    "# Describe the statistics of length of words\n",
    "df['Length'].describe()"
   ]
  },
  {
   "cell_type": "code",
   "execution_count": 11,
   "metadata": {},
   "outputs": [
    {
     "data": {
      "image/png": "[encoded data removed]",
      "text/plain": [
       "<Figure size 864x576 with 1 Axes>"
      ]
     },
     "metadata": {
      "needs_background": "light"
     },
     "output_type": "display_data"
    }
   ],
   "source": [
    "# Plot histogram \n",
    "fig, ax = plt.subplots(figsize=(12, 8))\n",
    "ax.hist(df['Length'], bins=10, color=\"#d1ae45\")\n",
    "\n",
    "# Set title label legend and xtickers\n",
    "plt.title('Words Count',size = 18,alpha=0.8)\n",
    "plt.xlabel('Number Of Words',size = 18,alpha=0.8)\n",
    "plt.ylabel('Frequency',size = 18,alpha=0.8)\n",
    "\n",
    "\n",
    "# Change background color inside the axes\n",
    "ax.set_facecolor(\"#2E2E2E\")\n",
    "\n",
    "plt.show();"
   ]
  },
  {
   "cell_type": "markdown",
   "metadata": {},
   "source": [
    "#### Findings:\n",
    "From the plot, it can be find that the distribution is a right-skewed distribution. Most of job posts contain less than 2000 but greater than 1000 words. Only a few of job descriptions contain more than 2000 words. Based on the research of Indeed.com, it shows that 'job descriptions between 700 and 2,000 characters get up to 30% more applications', which indicates that it would be better to write more concise job description than a tedious one. \n",
    "\n",
    "#### Recommendation:\n",
    "We recommend that recruiters should pay attention to the length of job posting and make efforts to limit the length of job post within 1000 words. The job post is also a type of reflection of company culture and work attitude. Efficiency would attract more applicants. Recruiters should find a good balance between providing enough details so that the candidates could fully understand the requirements and duties while keeping the description concise. \n",
    "\n",
    "#### Reference:\n",
    "https://www.indeed.com/hire/how-to-write-a-job-description?matchtype=b&network=g&device=c&devicemodel=&creative=355143870850&keyword=%2Bjob%20%2Bdescriptions&placement=&param1=&param2=&random=3857810173098333339&aceid=&adposition=1t1&utm_source=google&utm_medium=cpc&utm_term=job+descriptions&utm_campaign=job+description+pages+general+0+%28bmm%29&utm_medium=cpc&utm_source=google_search&utm_campaign=2001311670&utm_term=kwd-17476351936&gclid=EAIaIQobChMIlPaS7u_64gIVT-DICh1eIAqJEAAYASAAEgL6XPD_BwE"
   ]
  },
  {
   "cell_type": "markdown",
   "metadata": {},
   "source": [
    "#### Problem 1.2:\n",
    "Also, we want to know the length of job title, job requirements and job duties separately. We use three boxplots to visualize data. The x-axis is the number of counts."
   ]
  },
  {
   "cell_type": "code",
   "execution_count": 12,
   "metadata": {},
   "outputs": [
    {
     "data": {
      "image/png": "[encoded data removed]",
      "text/plain": [
       "<Figure size 864x576 with 3 Axes>"
      ]
     },
     "metadata": {
      "needs_background": "light"
     },
     "output_type": "display_data"
    }
   ],
   "source": [
    "# Count the number of characters in Title and number of words in Requirements and Duties\n",
    "df['TitleLen'] = df['Title'].apply(lambda x: len(x))\n",
    "df['RequireLen'] = df['Requirement'].apply(lambda x: len(x.split(' ')))\n",
    "df['DutiesLen'] = df['Duties'].apply(lambda x: len(x.split(' ')))\n",
    "\n",
    "fig = plt.figure(2,(12,8))\n",
    "fig.subplots_adjust(hspace=0.4, wspace=0.4)\n",
    "\n",
    "# Subplot the length of job title\n",
    "fig.add_subplot(3,1,1)\n",
    "sns.boxplot(x=df['TitleLen'],color = 'lightcoral')\n",
    "plt.title('Job Title Length(in characters)')\n",
    "plt.xlabel('number of characters',size = 12,alpha=0.8)\n",
    "\n",
    "# Subplot the length of job requirements\n",
    "fig.add_subplot(3,1,2)\n",
    "sns.boxplot(x=df['RequireLen'],color = 'firebrick')\n",
    "plt.title('Job Requirement Length(in words)')\n",
    "plt.xlabel('number of words',size = 12,alpha=0.8)\n",
    "\n",
    "# Subplot the length of job duties\n",
    "fig.add_subplot(3,1,3)\n",
    "sns.boxplot(x=df['DutiesLen'],color = 'mistyrose')\n",
    "plt.title('Job Duty Length(in words)')\n",
    "plt.xlabel('number of words',size = 12,alpha=0.8)\n",
    "\n",
    "\n",
    "plt.tight_layout()\n",
    "plt.show()"
   ]
  },
  {
   "cell_type": "markdown",
   "metadata": {},
   "source": [
    "#### Findings:\n",
    "From the plots, it can be seen that most job titles are within 20 to 35 characters, most job requirements are less than 100 words, and most job duties are within 40 to 80 words. Most job posts have a reasonable number of words, which is good for applicants to read. It indicates that the core components of job posting (requirement and duty) are very concise for most job posts.\n",
    "\n",
    "#### Recommendation:\n",
    "Our recommendation is that it would be better to simplify the words about the description of hiring processes and additional information of the job position. If the content of additional information are much more than the core information of job description, it would divert applicats attention from the more important information. "
   ]
  },
  {
   "cell_type": "markdown",
   "metadata": {},
   "source": [
    "### What are the basic salary distributed of different kinds of common experience requirement?\n",
    "#### Problem 2:\n",
    "Then, we want to know the general distribution of starting salary. We use distribution plot to visualize data. The x-axis is the starting salary and the y-axis is the probability."
   ]
  },
  {
   "cell_type": "code",
   "execution_count": 13,
   "metadata": {},
   "outputs": [
    {
     "data": {
      "image/png": "[encoded data removed]",
      "text/plain": [
       "<Figure size 864x432 with 2 Axes>"
      ]
     },
     "metadata": {
      "needs_background": "light"
     },
     "output_type": "display_data"
    }
   ],
   "source": [
    "# Plot starting salary distplot\n",
    "plt.figure(figsize=(12,6))\n",
    "plt.subplot(1,2,1)\n",
    "sns.distplot(df['SalaryStart'], rug=True, rug_kws={\"color\": \"darkgreen\"},\n",
    "             kde_kws={\"color\": \"olive\", \"lw\": 3, \"label\": \"KDE\"},\n",
    "             hist_kws={\"histtype\": \"step\", \"linewidth\": 3,\n",
    "                       \"alpha\": 1, \"color\": \"darkgreen\"})\n",
    "\n",
    "plt.title('Starting Salary Distribution')\n",
    "plt.ylabel('Probability',size = 12,alpha=0.8)\n",
    "plt.xlabel('Starting Salary',size = 12,alpha=0.8)\n",
    "\n",
    "# Plot ending salary distplot\n",
    "plt.subplot(1,2,2)\n",
    "sns.distplot(df['SalaryEnd'], rug=True, rug_kws={\"color\": \"firebrick\"},\n",
    "             kde_kws={\"color\": \"orange\", \"lw\": 3, \"label\": \"KDE\"},\n",
    "             hist_kws={\"histtype\": \"step\", \"linewidth\": 3,\n",
    "                       \"alpha\": 1, \"color\": \"firebrick\"})\n",
    "plt.title('Ending Salary Distribution')\n",
    "plt.ylabel('Probability',size = 12,alpha=0.8)\n",
    "plt.xlabel('Ending Salary',size = 12,alpha=0.8)\n",
    "\n",
    "plt.tight_layout()\n",
    "\n",
    "plt.show()"
   ]
  },
  {
   "cell_type": "markdown",
   "metadata": {},
   "source": [
    "#### Findings 2.1:\n",
    "From the plots, it can be seen that the starting salary and ending salary basically conform to normal distribution. Most starting salary falls between 50000 and 100000, while most ending salary falls between 75000 and 12500. In terms of ZipRecruiter.com, it says that 'A pay range will generally spread +/- 15-20% from the midpoint, but any range the employer feels is appropriate is acceptable, and ranges may be different for different grades.' Most of the job description conform to this rule. However, a few of job description has a huger range of salary. As shown in the following tables.\n",
    "\n",
    "#### Reference:\n",
    "https://www.ziprecruiter.com/blog/how-to-set-a-salary-and-create-pay-grades/"
   ]
  },
  {
   "cell_type": "code",
   "execution_count": 14,
   "metadata": {},
   "outputs": [
    {
     "data": {
      "text/html": [
       "<div>\n",
       "<style scoped>\n",
       "    .dataframe tbody tr th:only-of-type {\n",
       "        vertical-align: middle;\n",
       "    }\n",
       "\n",
       "    .dataframe tbody tr th {\n",
       "        vertical-align: top;\n",
       "    }\n",
       "\n",
       "    .dataframe thead th {\n",
       "        text-align: right;\n",
       "    }\n",
       "</style>\n",
       "<table border=\"1\" class=\"dataframe\">\n",
       "  <thead>\n",
       "    <tr style=\"text-align: right;\">\n",
       "      <th></th>\n",
       "      <th>Title</th>\n",
       "      <th>SalaryDiff</th>\n",
       "    </tr>\n",
       "    <tr>\n",
       "      <th>ClassCode</th>\n",
       "      <th></th>\n",
       "      <th></th>\n",
       "    </tr>\n",
       "  </thead>\n",
       "  <tbody>\n",
       "    <tr>\n",
       "      <th>3129</th>\n",
       "      <td>construction and maintenance superintendent</td>\n",
       "      <td>75293.0</td>\n",
       "    </tr>\n",
       "    <tr>\n",
       "      <th>9302</th>\n",
       "      <td>director of airports administration</td>\n",
       "      <td>60009.0</td>\n",
       "    </tr>\n",
       "    <tr>\n",
       "      <th>9304</th>\n",
       "      <td>director of airport operations</td>\n",
       "      <td>60009.0</td>\n",
       "    </tr>\n",
       "    <tr>\n",
       "      <th>9143</th>\n",
       "      <td>portfolio manager</td>\n",
       "      <td>59112.0</td>\n",
       "    </tr>\n",
       "    <tr>\n",
       "      <th>1404</th>\n",
       "      <td>airport chief information security officer</td>\n",
       "      <td>58025.0</td>\n",
       "    </tr>\n",
       "    <tr>\n",
       "      <th>7625</th>\n",
       "      <td>director of communications services</td>\n",
       "      <td>56877.0</td>\n",
       "    </tr>\n",
       "    <tr>\n",
       "      <th>9180</th>\n",
       "      <td>chief of parking enforcement operations</td>\n",
       "      <td>56877.0</td>\n",
       "    </tr>\n",
       "    <tr>\n",
       "      <th>1768</th>\n",
       "      <td>director of airport marketing</td>\n",
       "      <td>56877.0</td>\n",
       "    </tr>\n",
       "    <tr>\n",
       "      <th>9489</th>\n",
       "      <td>principal civil engineer</td>\n",
       "      <td>56877.0</td>\n",
       "    </tr>\n",
       "    <tr>\n",
       "      <th>4266</th>\n",
       "      <td>director of enforcement operations</td>\n",
       "      <td>56877.0</td>\n",
       "    </tr>\n",
       "  </tbody>\n",
       "</table>\n",
       "</div>"
      ],
      "text/plain": [
       "                                                  Title  SalaryDiff\n",
       "ClassCode                                                          \n",
       "3129       construction and maintenance superintendent      75293.0\n",
       "9302               director of airports administration      60009.0\n",
       "9304                    director of airport operations      60009.0\n",
       "9143                                 portfolio manager      59112.0\n",
       "1404        airport chief information security officer      58025.0\n",
       "7625               director of communications services      56877.0\n",
       "9180           chief of parking enforcement operations      56877.0\n",
       "1768                     director of airport marketing      56877.0\n",
       "9489                          principal civil engineer      56877.0\n",
       "4266                director of enforcement operations      56877.0"
      ]
     },
     "execution_count": 14,
     "metadata": {},
     "output_type": "execute_result"
    }
   ],
   "source": [
    "# Calculating the difference of salary start and salary end \n",
    "df['SalaryDiff']=abs(df['SalaryEnd']-df['SalaryStart'])\n",
    "\n",
    "# Filter the top 10 job position with largest difference of salary\n",
    "ranges=df[['Title','SalaryDiff']].sort_values(by='SalaryDiff',ascending=False)[:10]\n",
    "ranges"
   ]
  },
  {
   "cell_type": "markdown",
   "metadata": {},
   "source": [
    "#### Findings 2.2:\n",
    "From the table, it can be seen that manager, director, principal, superintendent usually has the largest gap in starting salary and ending salary. It indicates that the salary of hign-rank position has more upside potential. There are more space for applicants to negotiate salary. \n",
    "\n",
    "\n",
    "#### Recommendation:\n",
    "Our recommendation is that recruiters should clearly label the lowest salary and the highest salary of one job position. In order to avoid any confusion, the salary range should be within 15% to 20% from the mean of salary. Also, recruiters could also establish some pay grades or highlight pay equity in job description. For example, entry-level may be paid 75-80% of the market rate and high-experienced employees would max out around 120-125% of the market rate."
   ]
  },
  {
   "cell_type": "markdown",
   "metadata": {},
   "source": [
    "### How does the education or experience be mentioned in job description?\n",
    "#### Problem 3: \n",
    "Next, we want to know whether there are education requirements in job description. We use a donut chart (pie chart) to visualize the eduaction data and use bar chart to visualize experience data."
   ]
  },
  {
   "cell_type": "code",
   "execution_count": 15,
   "metadata": {},
   "outputs": [
    {
     "data": {
      "image/png": "[encoded data removed]",
      "text/plain": [
       "<Figure size 1008x576 with 1 Axes>"
      ]
     },
     "metadata": {},
     "output_type": "display_data"
    }
   ],
   "source": [
    "# Count the occurance of education requirements \n",
    "education = pd.DataFrame(df.groupby(by='Education').agg({'Title': 'count'}))\n",
    "education.columns = ['count']\n",
    "education = education[education['count'] > 10]\n",
    "education.sort_values(by = 'count',ascending=False)\n",
    "\n",
    "\n",
    "# Create donut plot to visualize the occurance of education requirements \n",
    "fig, ax = plt.subplots(figsize=(14, 8), subplot_kw=dict(aspect=\"equal\"))\n",
    "\n",
    "wedges, texts = ax.pie(education['count'], wedgeprops=dict(width=0.5), startangle=-40,colors=['chocolate','salmon','gold'])\n",
    "\n",
    "bbox_props = dict(boxstyle=\"square,pad=0.3\", fc=\"w\", ec=\"k\", lw=0.72)\n",
    "kw = dict(xycoords='data', textcoords='data', arrowprops=dict(arrowstyle=\"-\"),\n",
    "          bbox=bbox_props, zorder=0, va=\"center\")\n",
    "\n",
    "# Demonstrate the value of each category instead of percentage as the default value\n",
    "for i, p in enumerate(wedges):\n",
    "    ang = (p.theta2 - p.theta1)/2. + p.theta1\n",
    "    y = np.sin(np.deg2rad(ang))\n",
    "    x = np.cos(np.deg2rad(ang))\n",
    "    horizontalalignment = {-1: \"right\", 1: \"left\"}[int(np.sign(x))]\n",
    "    connectionstyle = \"angle,angleA=0,angleB={}\".format(ang)\n",
    "    kw[\"arrowprops\"].update({\"connectionstyle\": connectionstyle})\n",
    "    ax.annotate(str(education.index[i])+' : '+str(education['count'][i]), xy=(x, y), xytext=(1.35*np.sign(x), 1.4*y),\n",
    "                 horizontalalignment=horizontalalignment, **kw)\n",
    "\n",
    "ax.set_title(\"The number of education requirements\")\n",
    "\n",
    "plt.show()"
   ]
  },
  {
   "cell_type": "markdown",
   "metadata": {},
   "source": [
    "#### Findings 3.1:\n",
    "From the plot, it can be seen more than half of the job description don't have a educational background bias and don't mention the required degree. about one third job posts require college or university degree. Based on the research of Harvard Business School, employers should stop requiring college degree for middle-skill jobs because it may cause \"degree inflation\". \n",
    "\n",
    "#### Recommendation 3.1:\n",
    "Our recommendation is that for high-level jobs, it would be better to explicit the minimum requirement of education degree. However, for low-level jobs or medium-level jobs, it is better not to include any requirements of education degree. We think that most of the recruiters did well in this point. It is because the emphasis of the education may cause degree inflation so that applicants may regard the company with bias. It's better to not let a college degree become a barrier to entering the workforce or seeking their careers. Instead, sometimes experience in related fields may be more important.\n",
    "\n",
    "#### Reference:\n",
    "https://hbswk.hbs.edu/item/why-employers-must-stop-requiring-college-degrees-for-middle-skill-jobs"
   ]
  },
  {
   "cell_type": "code",
   "execution_count": 16,
   "metadata": {},
   "outputs": [
    {
     "data": {
      "image/png": "[encoded data removed]",
      "text/plain": [
       "<Figure size 720x432 with 1 Axes>"
      ]
     },
     "metadata": {
      "needs_background": "light"
     },
     "output_type": "display_data"
    }
   ],
   "source": [
    "# Count the occurance of experience requirements \n",
    "experience = pd.DataFrame(df.groupby(by='Experience').agg({'Title': 'count'}))\n",
    "experience.columns = ['count']\n",
    "experience.sort_values(by = 'count',ascending=False)\n",
    "\n",
    "# Plot the frequency of experience requirements\n",
    "plt.figure(figsize=(10, 6))\n",
    "sns.barplot(y=experience['count'],x=experience.index,palette=\"Set2\")\n",
    "plt.title('Experience requirement')\n",
    "\n",
    "plt.show()"
   ]
  },
  {
   "cell_type": "markdown",
   "metadata": {},
   "source": [
    "> #### Findings 3.2:\n",
    "From the plot, most of the job posts list experience as one of the requirement. There are more than 600 job descriptions mention experience in job requirements. We think this is good because relavant work experience would be very important to determine whether a candidates fit that job."
   ]
  },
  {
   "cell_type": "markdown",
   "metadata": {},
   "source": [
    "### How does the open date distributed? (in year/ month/ week/ season)\n",
    "#### Problem 4:\n",
    "Then, we want to explore how does the open date distribution in terms of year, quarter, month and week. We use four subplots to visualize data. The y-axis is the frequency of occurance."
   ]
  },
  {
   "cell_type": "code",
   "execution_count": 17,
   "metadata": {},
   "outputs": [
    {
     "data": {
      "image/png": "[encoded data removed]",
      "text/plain": [
       "<Figure size 1152x576 with 4 Axes>"
      ]
     },
     "metadata": {
      "needs_background": "light"
     },
     "output_type": "display_data"
    }
   ],
   "source": [
    "# Subplot quarter \n",
    "plt.figure(figsize=(16,8))\n",
    "plt.subplot(2,2,1)\n",
    "df['OpenQuarter']=[z.quarter for z in df['OpenDate']]\n",
    "count=df['OpenQuarter'].value_counts(sort=False)\n",
    "sns.barplot(y=count.values,x=count.index,palette='Spectral')\n",
    "plt.title('Quarter')\n",
    "\n",
    "# Subplot year\n",
    "plt.subplot(2,2,2)\n",
    "df['OpenYear']=[z.year for z in df['OpenDate']]\n",
    "count=df['OpenYear'].value_counts(sort=False)\n",
    "sns.barplot(y=count.values,x=count.index,palette='Spectral')\n",
    "plt.title('Year')\n",
    "\n",
    "# Subplot month\n",
    "plt.subplot(2,2,3)\n",
    "df['OpenMonth']=[z.month for z in df['OpenDate']]\n",
    "count=df['OpenMonth'].value_counts(sort=False)\n",
    "sns.barplot(y=count.values,x=count.index,palette='Spectral')\n",
    "plt.title('Month')\n",
    "\n",
    "# Subplot weekday\n",
    "plt.subplot(2,2,4)\n",
    "df['OpenDay']=[z.weekday() for z in df['OpenDate']]\n",
    "count=df['OpenDay'].value_counts(sort=False)\n",
    "sns.barplot(y=count.values,x=count.index,palette='Spectral')\n",
    "plt.title('Weekday')\n",
    "\n",
    "\n",
    "plt.show()"
   ]
  },
  {
   "cell_type": "markdown",
   "metadata": {},
   "source": [
    "#### Findings:\n",
    "From the plots, it can be seen that jobs are posted evenly in each quarter. March, October and December have the most job posts. The number of job posting has increased dramatically since 2014. However, the most interesting finding is that most job postings are released on Friday. That could be one problem for recruiters because Friday may not be the best day to release a job post. Based on the research of LinkedIn.com, it shows that there are the most applicants browse job website on Monday and fewest applicants on Friday and weekends. \n",
    "\n",
    "#### Recommendation:\n",
    "Our recommendation is that recruiters could change the open day from Friday to Monday to increase the number of potential applicants. The more applicants, the more choices for one company. \n",
    "\n",
    "#### Reference:\n",
    "https://business.linkedin.com/talent-solutions/blog/trends-and-research/2016/the-best-times-to-post-a-job-on-linkedin"
   ]
  },
  {
   "cell_type": "markdown",
   "metadata": {},
   "source": [
    "### Readability Analysis\n",
    "When we went through a few job post examples, we find that it's hard to understand the context of the file quickly. This is a problem when it comes to attracting more diverse and qualified candidates. Therefore, we performed a readability analysis on the job posts.\n",
    "\n",
    "We decided to use *textstat* which is a Python package to calculate statistics from text to determine readability, complexity and grade level of a particular corpus. In addition, we use *Readability Consensus based upon all the above tests* which is based upon all the above tests, returns the estimated school grade level required to understand the text."
   ]
  },
  {
   "cell_type": "code",
   "execution_count": 18,
   "metadata": {},
   "outputs": [],
   "source": [
    "# Get the redability score of requirement for each job post\n",
    "readability_score = []\n",
    "for i in range(len(df)):\n",
    "    temp = df['Requirement'][i]\n",
    "    readability_score.append(textstat.text_standard(temp)[:2])\n",
    "readability_score = pd.Series(readability_score).str.replace('[t]', '')"
   ]
  },
  {
   "cell_type": "code",
   "execution_count": 19,
   "metadata": {},
   "outputs": [
    {
     "data": {
      "image/png": "[encoded data removed]",
      "text/plain": [
       "<Figure size 720x576 with 1 Axes>"
      ]
     },
     "metadata": {
      "needs_background": "light"
     },
     "output_type": "display_data"
    }
   ],
   "source": [
    "# Visualize the readability_score\n",
    "readability_score = pd.to_numeric(readability_score)\n",
    "readability_score.hist(bins=40, figsize = (10,8));"
   ]
  },
  {
   "cell_type": "markdown",
   "metadata": {},
   "source": [
    "We find that the readability score distribution is not as good as we expected, around half are higher than 10. Not many candidates have that high level of education. Therefore, we recommmend that city of LA could consider to use simpler words and sentences to propose the job description which is easier to read."
   ]
  },
  {
   "cell_type": "markdown",
   "metadata": {},
   "source": [
    "### Gender bias in job posting\n",
    "While the Civil Rights Act of 1964 prohibits employers from overtly soliciting a preferred gender in their job listings, research shows that the language of job descriptions often subtly adheres to gender stereotypes. And that deters members of the opposite gender from applying to those jobs.\n",
    "\n",
    "Therefore, here we would like to perform text analysis in requirement, duties and title of job posting to find out wether gender bias is a problem of City of LA."
   ]
  },
  {
   "cell_type": "code",
   "execution_count": 20,
   "metadata": {},
   "outputs": [],
   "source": [
    "req=' '.join(text for text in df['Requirement'])\n",
    "duties= ' '.join(d for d in df['Duties'])"
   ]
  },
  {
   "cell_type": "code",
   "execution_count": 21,
   "metadata": {},
   "outputs": [
    {
     "name": "stdout",
     "output_type": "stream",
     "text": [
      "pronouns used in requirement section are\n",
      "dict_keys(['or3', 'or2', 'you', 'I', 'orb', 'orc', 'or4', 'or5', 'or6', 'they', 'You', 'it', 'or7', 'or8', 'ore.', 'offset', 'orB'])\n",
      "\n",
      "pronouns used in duties section are\n",
      "dict_keys(['it', 'I', 'they', 's'])\n"
     ]
    }
   ],
   "source": [
    "def pronoun(data):\n",
    "    \n",
    "    '''function to tokenize data and perform pos_tagging.Returns tokens having \"PRP\" tag'''\n",
    "    \n",
    "    prn=[]\n",
    "    vrb=[]\n",
    "    token=word_tokenize(data)\n",
    "    pos=pos_tag(token)\n",
    "   \n",
    "    vrb=Counter([x[0] for x in pos if x[1]=='PRP'])\n",
    "    \n",
    "    return vrb\n",
    "    \n",
    "\n",
    "\n",
    "req_prn=pronoun(req)\n",
    "duties_prn=pronoun(duties)\n",
    "print('pronouns used in requirement section are')\n",
    "print(req_prn.keys())\n",
    "print('\\npronouns used in duties section are')\n",
    "print(duties_prn.keys())"
   ]
  },
  {
   "cell_type": "markdown",
   "metadata": {},
   "source": [
    "As we can see from the result, we do not detect any gender bias words in the retuirement and duties section of all job postings. Therefore, we do encourge City of LA to continue to perform well on keeping the word neutral, imporving the diversity and the applicants pool."
   ]
  },
  {
   "cell_type": "markdown",
   "metadata": {},
   "source": [
    "### Find out whether the job post is negtive or positive¶\n",
    "If the job post is more negtive, it not good for the candidates to read."
   ]
  },
  {
   "cell_type": "code",
   "execution_count": 22,
   "metadata": {},
   "outputs": [],
   "source": [
    "analyzer = SentimentIntensityAnalyzer()\n",
    "\n",
    "# Write the function get_sentiment to get the sentiment information\n",
    "def get_sentiment(column_name):\n",
    "    sentiment = []\n",
    "    for i in range(len(df)):\n",
    "        temp = list(analyzer.polarity_scores(df[column_name][i]).values())[3]\n",
    "        sentiment.append(temp)\n",
    "        \n",
    "    #print(sentiment)\n",
    "    return sentiment"
   ]
  },
  {
   "cell_type": "markdown",
   "metadata": {},
   "source": [
    "#### Sentiment Analysis for Responsibility\n",
    "- score -1 ~ -0.25 means the text is negtive;\n",
    "- score -0.25 ~ 0.25 means the text is neutral;\n",
    "- score 0.25 ~ 1 means the text is positive."
   ]
  },
  {
   "cell_type": "code",
   "execution_count": 23,
   "metadata": {},
   "outputs": [
    {
     "data": {
      "image/png": "[encoded data removed]",
      "text/plain": [
       "<Figure size 432x288 with 1 Axes>"
      ]
     },
     "metadata": {
      "needs_background": "light"
     },
     "output_type": "display_data"
    }
   ],
   "source": [
    "# Visualize the analysis for responsibility\n",
    "plt.hist(get_sentiment('Requirement'), bins=30)\n",
    "plt.title('Sentiment Distribution for Requeirment')\n",
    "plt.xlabel('Sentiment')\n",
    "plt.ylabel('count')\n",
    "plt.show()"
   ]
  },
  {
   "cell_type": "markdown",
   "metadata": {},
   "source": [
    "#### Sentiment Analysis for Duties"
   ]
  },
  {
   "cell_type": "code",
   "execution_count": 24,
   "metadata": {},
   "outputs": [
    {
     "data": {
      "image/png": "[encoded data removed]",
      "text/plain": [
       "<Figure size 432x288 with 1 Axes>"
      ]
     },
     "metadata": {
      "needs_background": "light"
     },
     "output_type": "display_data"
    }
   ],
   "source": [
    "# Visualize the analysis for Duties\n",
    "plt.hist(get_sentiment('Duties'), bins=30)\n",
    "plt.title('Sentiment Distribution for Duties')\n",
    "plt.xlabel('Sentiment')\n",
    "plt.ylabel('count')\n",
    "plt.show()"
   ]
  },
  {
   "cell_type": "markdown",
   "metadata": {},
   "source": [
    "#### Sentiment Analysis for Title"
   ]
  },
  {
   "cell_type": "code",
   "execution_count": 25,
   "metadata": {},
   "outputs": [
    {
     "data": {
      "image/png": "[encoded data removed]",
      "text/plain": [
       "<Figure size 432x288 with 1 Axes>"
      ]
     },
     "metadata": {
      "needs_background": "light"
     },
     "output_type": "display_data"
    }
   ],
   "source": [
    "# Visualize the analysis for Title\n",
    "plt.hist(get_sentiment('Title'), bins=30)\n",
    "plt.title('Sentiment Distribution for Title')\n",
    "plt.xlabel('Sentiment')\n",
    "plt.ylabel('count')\n",
    "plt.show()"
   ]
  },
  {
   "cell_type": "markdown",
   "metadata": {},
   "source": [
    "The result of sentiment analysis shows that the text in requirement, duties, and titles are very neutral. Therefore, city of LA could continue to use the neutral words when propose a job post"
   ]
  },
  {
   "cell_type": "markdown",
   "metadata": {},
   "source": [
    "### Promotion path\n",
    "Since there are too many position in the promotion path and it's not easy to visualize, we decided to use *animal* related position to show the promotion path"
   ]
  },
  {
   "cell_type": "code",
   "execution_count": 26,
   "metadata": {},
   "outputs": [
    {
     "data": {
      "image/svg+xml": [
       "<?xml version=\"1.0\" encoding=\"UTF-8\" standalone=\"no\"?>\n",
       "<!DOCTYPE svg PUBLIC \"-//W3C//DTD SVG 1.1//EN\"\n",
       " \"http://www.w3.org/Graphics/SVG/1.1/DTD/svg11.dtd\">\n",
       "<!-- Generated by graphviz version 2.38.0 (20140413.2041)\n",
       " -->\n",
       "<!-- Title: %3 Pages: 1 -->\n",
       "<svg width=\"268pt\" height=\"131pt\"\n",
       " viewBox=\"0.00 0.00 267.98 131.00\" xmlns=\"http://www.w3.org/2000/svg\" xmlns:xlink=\"http://www.w3.org/1999/xlink\">\n",
       "<g id=\"graph0\" class=\"graph\" transform=\"scale(1 1) rotate(0) translate(4 127)\">\n",
       "<title>%3</title>\n",
       "<polygon fill=\"white\" stroke=\"none\" points=\"-4,4 -4,-127 263.977,-127 263.977,4 -4,4\"/>\n",
       "<!-- ANIMAL KEEPER -->\n",
       "<g id=\"node1\" class=\"node\"><title>ANIMAL KEEPER</title>\n",
       "<ellipse fill=\"none\" stroke=\"black\" cx=\"129.988\" cy=\"-105\" rx=\"81.7856\" ry=\"18\"/>\n",
       "<text text-anchor=\"middle\" x=\"129.988\" y=\"-101.3\" font-family=\"Times,serif\" font-size=\"14.00\">ANIMAL KEEPER</text>\n",
       "</g>\n",
       "<!-- PRINCIPAL ANIMAL KEEPER -->\n",
       "<g id=\"node2\" class=\"node\"><title>PRINCIPAL ANIMAL KEEPER</title>\n",
       "<ellipse fill=\"none\" stroke=\"black\" cx=\"129.988\" cy=\"-18\" rx=\"129.977\" ry=\"18\"/>\n",
       "<text text-anchor=\"middle\" x=\"129.988\" y=\"-14.3\" font-family=\"Times,serif\" font-size=\"14.00\">PRINCIPAL ANIMAL KEEPER</text>\n",
       "</g>\n",
       "<!-- ANIMAL KEEPER&#45;&gt;PRINCIPAL ANIMAL KEEPER -->\n",
       "<g id=\"edge1\" class=\"edge\"><title>ANIMAL KEEPER&#45;&gt;PRINCIPAL ANIMAL KEEPER</title>\n",
       "<path fill=\"none\" stroke=\"black\" d=\"M129.988,-86.799C129.988,-75.1626 129.988,-59.5479 129.988,-46.2368\"/>\n",
       "<polygon fill=\"black\" stroke=\"black\" points=\"133.489,-46.1754 129.988,-36.1754 126.489,-46.1755 133.489,-46.1754\"/>\n",
       "<text text-anchor=\"middle\" x=\"153.488\" y=\"-57.8\" font-family=\"Times,serif\" font-size=\"14.00\">Promote</text>\n",
       "</g>\n",
       "</g>\n",
       "</svg>\n"
      ],
      "text/plain": [
       "<graphviz.dot.Digraph at 0x7f33c4ad3160>"
      ]
     },
     "execution_count": 26,
     "metadata": {},
     "output_type": "execute_result"
    }
   ],
   "source": [
    "dot = Digraph(comment='Promotions')\n",
    "\n",
    "finder=FinderAcora()\n",
    "strReq = \"Requirement\"\n",
    "arrRelation=[]\n",
    "arrFinal=[]\n",
    "\n",
    "def get_promotion(row):\n",
    "    strLine = str(row [strReq]) #only check Requirement/minimum qualification section to get the promotion path\n",
    "    # usually the promotion sentences start with \"as a\" and finish with \"with\"\n",
    "    if strLine.find(\"as a\") > 0:\n",
    "        objItem = dict() \n",
    "        # only one previous position required\n",
    "        #if strLine.find(\"or\") < 0:\n",
    "        strTemp = strLine[strLine.find(\"as a\"):strLine.find(\"with\")-1]\n",
    "        strTemp = strTemp.replace(\"as an\", \"as a\").replace(\"as a \",\"\")\n",
    "        if strTemp != \"\":\n",
    "            for m in finder.findall(strTemp):\n",
    "                objItem['Job1'] = row[\"Title\"].lstrip().rstrip().upper()\n",
    "                objItem['Job2'] = m[2].lstrip().rstrip().upper()\n",
    "                arrRelation.append(objItem)\n",
    "    return row\n",
    "    \n",
    "df = df.apply(get_promotion, axis=1)\n",
    "\n",
    "pro = pd.DataFrame(arrRelation)\n",
    "#pro.head()\n",
    "#pro.to_csv('C:/Work/Promotion.csv')\n",
    "pro = pro.drop_duplicates()\n",
    "#Job1 is higher role and Job1 is the role which could promote to Job1\n",
    "for index, row in pro.iterrows():\n",
    "# as the image is too large, here just take police related jobs as an example\n",
    "    if row[\"Job2\"].startswith(\"ANIMAL\"):\n",
    "        dot.edge(row[\"Job2\"], row[\"Job1\"], label='Promote')\n",
    "dot"
   ]
  },
  {
   "cell_type": "code",
   "execution_count": 27,
   "metadata": {},
   "outputs": [],
   "source": [
    "# Extract data frame into csv file\n",
    "df.to_csv('./jobs.csv', index=None)"
   ]
  }
 ],
 "metadata": {
  "kernelspec": {
   "display_name": "Python 3",
   "language": "python",
   "name": "python3"
  },
  "language_info": {
   "codemirror_mode": {
    "name": "ipython",
    "version": 3
   },
   "file_extension": ".py",
   "mimetype": "text/x-python",
   "name": "python",
   "nbconvert_exporter": "python",
   "pygments_lexer": "ipython3",
   "version": "3.6.6"
  }
 },
 "nbformat": 4,
 "nbformat_minor": 1
}
